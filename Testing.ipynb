{
 "metadata": {
  "language_info": {
   "codemirror_mode": {
    "name": "ipython",
    "version": 3
   },
   "file_extension": ".py",
   "mimetype": "text/x-python",
   "name": "python",
   "nbconvert_exporter": "python",
   "pygments_lexer": "ipython3",
   "version": "3.6.5"
  },
  "orig_nbformat": 2,
  "kernelspec": {
   "name": "python365jvsc74a57bd04359d1d3b929a9d114d8599c1572cbe309c4335b3997349b01cf41e1e6693348",
   "display_name": "Python 3.6.5 64-bit ('tf36': conda)"
  }
 },
 "nbformat": 4,
 "nbformat_minor": 2,
 "cells": [
  {
   "cell_type": "code",
   "execution_count": 1,
   "metadata": {},
   "outputs": [],
   "source": [
    "import string \n",
    "import numpy as np \n",
    "from gensim.models import Word2Vec\n",
    "from Preprocess import NepaliPreprocess\n",
    "from tensorflow.keras.models import load_model\n",
    "from tensorflow.keras.preprocessing.sequence import pad_sequences"
   ]
  },
  {
   "cell_type": "code",
   "execution_count": 2,
   "metadata": {},
   "outputs": [],
   "source": [
    "model = load_model(\"LSTM.h5\")"
   ]
  },
  {
   "cell_type": "code",
   "execution_count": 3,
   "metadata": {},
   "outputs": [],
   "source": [
    "\n",
    "model_W2V = Word2Vec.load(\"./Pretrained_wordEmbeddings/nepaliW2V_5Million.model\")\n",
    "nlp = NepaliPreprocess()"
   ]
  },
  {
   "cell_type": "code",
   "execution_count": 4,
   "metadata": {},
   "outputs": [],
   "source": [
    "\n",
    "def word2token(word):\n",
    "    try:\n",
    "        return model_W2V.wv.key_to_index[word]\n",
    "    except KeyError:\n",
    "        return 0  \n",
    "# COVERT TOKEN INTO WORD\n",
    "def token2word(token):\n",
    "    return model_W2V.wv.index_to_key[token]"
   ]
  },
  {
   "cell_type": "code",
   "execution_count": 5,
   "metadata": {},
   "outputs": [],
   "source": [
    "translator = str.maketrans('', '', string.punctuation + '–')\n",
    "def prepare_input(text):\n",
    "\n",
    "    preprocessed_Text = nlp.Reg_and_Stemming(text)\n",
    "\n",
    "    translator = str.maketrans('', '', string.punctuation + '–')\n",
    "    news = preprocessed_Text.translate(translator)\n",
    "    words = np.array([word2token(w) for w in news.split(' ')[:20] if w != ''])\n",
    "    input_tokens = []\n",
    "    for idx in words:\n",
    "        input_tokens.append(idx) \n",
    "\n",
    "    set_x = pad_sequences([input_tokens], maxlen=20, padding='pre', value=0)\n",
    "    return set_x"
   ]
  },
  {
   "cell_type": "code",
   "execution_count": 6,
   "metadata": {},
   "outputs": [],
   "source": [
    "def get_CATEGORY(input_Seq):\n",
    "\n",
    "    opt = model.predict(input_Seq)\n",
    "    idx = np.argmax(opt)\n",
    "    category = {'खेलकुद': 0, 'मनोरन्जन': 1, 'व्यापार': 2}\n",
    "    News_class = list(category.keys())[list(category.values()).index(idx)]\n",
    "    return News_class"
   ]
  },
  {
   "cell_type": "code",
   "execution_count": 7,
   "metadata": {},
   "outputs": [
    {
     "output_type": "stream",
     "name": "stdout",
     "text": [
      "खेलकुद\n"
     ]
    }
   ],
   "source": [
    "inpuT = \"लेस्टर घरेलु मैदानमा न्युकासलसँग पराजित\"\n",
    "padded_input = prepare_input(inpuT)\n",
    "resut = get_CATEGORY(padded_input)\n",
    "print(resut)"
   ]
  },
  {
   "cell_type": "code",
   "execution_count": null,
   "metadata": {},
   "outputs": [],
   "source": []
  }
 ]
}